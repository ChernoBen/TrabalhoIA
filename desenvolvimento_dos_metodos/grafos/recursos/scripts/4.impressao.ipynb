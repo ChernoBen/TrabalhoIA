{
 "cells": [
  {
   "cell_type": "code",
   "execution_count": null,
   "metadata": {},
   "outputs": [],
   "source": [
    "# Formação Cientista de Dados - Fernando Amaral e Jones Granatyr\n",
    "# Igraph"
   ]
  },
  {
   "cell_type": "code",
   "execution_count": null,
   "metadata": {},
   "outputs": [],
   "source": [
    "# Importação das bibliotecas\n",
    "from igraph import Graph\n",
    "from igraph import plot"
   ]
  },
  {
   "cell_type": "code",
   "execution_count": null,
   "metadata": {},
   "outputs": [],
   "source": [
    "# Criação de grafo com pesos entre as relações\n",
    "grafo5 = Graph(edges = [(0,1),(2,3),(0,2),(0,3)], directed = True)\n",
    "grafo5.vs['label'] = ['Fernando', 'Pedro', 'Jose', 'Antonio']\n",
    "grafo5.vs['peso'] = [40,30,30,25]\n",
    "grafo5.es['TipoAmizade'] = ['Amigo', 'Inimigo', 'Inimigo', 'Amigo']\n",
    "grafo5.es['weight'] = [1,2,1,3]"
   ]
  },
  {
   "cell_type": "code",
   "execution_count": null,
   "metadata": {},
   "outputs": [],
   "source": [
    "# Visualizar informações sobre os vértices\n",
    "for v in grafo5.vs:\n",
    "    print(v)"
   ]
  },
  {
   "cell_type": "code",
   "execution_count": null,
   "metadata": {},
   "outputs": [],
   "source": [
    "# Visualizar informações sobre as arestas\n",
    "for e in grafo5.es:\n",
    "    print(e)"
   ]
  },
  {
   "cell_type": "code",
   "execution_count": null,
   "metadata": {},
   "outputs": [],
   "source": [
    "# Definição de cores para os vértices\n",
    "grafo5.vs['cor'] = ['blue', 'red', 'yellow', 'green']\n",
    "plot(grafo5, bbox=(0,0,300,300),vertex_color = grafo5.vs['cor'])"
   ]
  },
  {
   "cell_type": "code",
   "execution_count": null,
   "metadata": {},
   "outputs": [],
   "source": [
    "# pesos para as arrestas\n",
    "plot(grafo5, bbox=(300,300),  edge_width = grafo5.es['weight'],\n",
    "     vertex_color = grafo5.vs['cor'])"
   ]
  },
  {
   "cell_type": "code",
   "execution_count": null,
   "metadata": {},
   "outputs": [],
   "source": [
    "# Pesos para os vértices\n",
    "plot(grafo5, bbox=(300,300), vertex_size = grafo5.vs['peso'],\n",
    "     edge_width = grafo5.es['weight'],\n",
    "     vertex_color = grafo5.vs['cor'])"
   ]
  },
  {
   "cell_type": "code",
   "execution_count": null,
   "metadata": {},
   "outputs": [],
   "source": [
    "# Curvatura\n",
    "plot(grafo5, bbox=(300,300), vertex_size = grafo5.vs['peso'],\n",
    "     edge_width = grafo5.es['weight'],\n",
    "     vertex_color = grafo5.vs['cor'],\n",
    "     edge_curved = 0.4)"
   ]
  },
  {
   "cell_type": "code",
   "execution_count": null,
   "metadata": {},
   "outputs": [],
   "source": [
    "# Formato\n",
    "plot(grafo5, bbox=(0,0,300,300), vertex_size = grafo5.vs['peso'],\n",
    "     edge_width = grafo5.es['weight'],\n",
    "     vertex_color = grafo5.vs['cor'],\n",
    "     edge_curved = 0.4, vertex_shape = 'triangle')"
   ]
  },
  {
   "cell_type": "code",
   "execution_count": null,
   "metadata": {},
   "outputs": [],
   "source": []
  }
 ],
 "metadata": {
  "jupytext": {
   "cell_metadata_filter": "-all",
   "main_language": "python",
   "notebook_metadata_filter": "-all"
  },
  "kernelspec": {
   "display_name": "Python 3",
   "language": "python",
   "name": "python3"
  },
  "language_info": {
   "codemirror_mode": {
    "name": "ipython",
    "version": 3
   },
   "file_extension": ".py",
   "mimetype": "text/x-python",
   "name": "python",
   "nbconvert_exporter": "python",
   "pygments_lexer": "ipython3",
   "version": "3.7.6"
  }
 },
 "nbformat": 4,
 "nbformat_minor": 4
}
